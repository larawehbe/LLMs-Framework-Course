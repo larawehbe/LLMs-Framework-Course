{
 "cells": [
  {
   "cell_type": "code",
   "execution_count": 1,
   "metadata": {},
   "outputs": [
    {
     "ename": "ModuleNotFoundError",
     "evalue": "No module named 'pymupdf'",
     "output_type": "error",
     "traceback": [
      "\u001b[31m---------------------------------------------------------------------------\u001b[39m",
      "\u001b[31mModuleNotFoundError\u001b[39m                       Traceback (most recent call last)",
      "\u001b[36mCell\u001b[39m\u001b[36m \u001b[39m\u001b[32mIn[1]\u001b[39m\u001b[32m, line 1\u001b[39m\n\u001b[32m----> \u001b[39m\u001b[32m1\u001b[39m \u001b[38;5;28;01mimport\u001b[39;00m\u001b[38;5;250m \u001b[39m\u001b[34;01mpymupdf\u001b[39;00m\n\u001b[32m      3\u001b[39m doc = pymupdf.open(\u001b[33m\"\u001b[39m\u001b[33mdata/2501.12948v1.pdf\u001b[39m\u001b[33m\"\u001b[39m) \u001b[38;5;66;03m# open a document\u001b[39;00m\n\u001b[32m      5\u001b[39m \u001b[38;5;28;01mfor\u001b[39;00m page_index \u001b[38;5;129;01min\u001b[39;00m \u001b[38;5;28mrange\u001b[39m(\u001b[38;5;28mlen\u001b[39m(doc)): \u001b[38;5;66;03m# iterate over pdf pages\u001b[39;00m\n",
      "\u001b[31mModuleNotFoundError\u001b[39m: No module named 'pymupdf'"
     ]
    }
   ],
   "source": [
    "import pymupdf\n",
    "\n",
    "doc = pymupdf.open(\"data/2501.12948v1.pdf\") # open a document\n",
    "\n",
    "for page_index in range(len(doc)): # iterate over pdf pages\n",
    "    page = doc[page_index] # get the page\n",
    "    image_list = page.get_images()\n",
    "\n",
    "    # print the number of images found on the page\n",
    "    if image_list:\n",
    "        print(f\"Found {len(image_list)} images on page {page_index}\")\n",
    "    else:\n",
    "        print(\"No images found on page\", page_index)\n",
    "\n",
    "    for image_index, img in enumerate(image_list, start=1): # enumerate the image list\n",
    "        xref = img[0] # get the XREF of the image\n",
    "        pix = pymupdf.Pixmap(doc, xref) # create a Pixmap\n",
    "\n",
    "        if pix.n - pix.alpha > 3: # CMYK: convert to RGB first\n",
    "            pix = pymupdf.Pixmap(pymupdf.csRGB, pix)\n",
    "\n",
    "        pix.save(\"page_%s-image_%s.png\" % (page_index, image_index)) # save the image as png\n",
    "        pix = None"
   ]
  },
  {
   "cell_type": "code",
   "execution_count": null,
   "metadata": {},
   "outputs": [],
   "source": []
  }
 ],
 "metadata": {
  "kernelspec": {
   "display_name": "venv",
   "language": "python",
   "name": "python3"
  },
  "language_info": {
   "codemirror_mode": {
    "name": "ipython",
    "version": 3
   },
   "file_extension": ".py",
   "mimetype": "text/x-python",
   "name": "python",
   "nbconvert_exporter": "python",
   "pygments_lexer": "ipython3",
   "version": "3.12.8"
  }
 },
 "nbformat": 4,
 "nbformat_minor": 2
}
